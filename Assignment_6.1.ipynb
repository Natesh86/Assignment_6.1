{
 "cells": [
  {
   "cell_type": "code",
   "execution_count": 74,
   "metadata": {},
   "outputs": [],
   "source": [
    "import numpy as np #Creating a function that generates matrix with geometric progress for each row\n",
    "def Vandermonde (list_a,boolean):\n",
    "    temp=[]\n",
    "    M=len(list_a)\n",
    "    N=M-1\n",
    "    if (boolean==True):\n",
    "            temp=[list_a[i]**j for i in range(0,M) for j in range(0,N)]\n",
    "    else:\n",
    "            temp=[list_a[i]**(N-j-1) for i in range(0,M) for j in range(0,N)]\n",
    "    return np.array(temp).reshape(M,N)\n",
    "    "
   ]
  },
  {
   "cell_type": "code",
   "execution_count": 75,
   "metadata": {},
   "outputs": [],
   "source": [
    "list_a=[1,2,3,4]"
   ]
  },
  {
   "cell_type": "code",
   "execution_count": 76,
   "metadata": {},
   "outputs": [
    {
     "name": "stdout",
     "output_type": "stream",
     "text": [
      "[[ 1  1  1]\n",
      " [ 1  2  4]\n",
      " [ 1  3  9]\n",
      " [ 1  4 16]]\n"
     ]
    }
   ],
   "source": [
    "print(Vandermonde (list_a,True))# Passing the list with increasing as True"
   ]
  },
  {
   "cell_type": "code",
   "execution_count": 77,
   "metadata": {},
   "outputs": [],
   "source": [
    "list_a=[1,2,3,4]"
   ]
  },
  {
   "cell_type": "code",
   "execution_count": 78,
   "metadata": {},
   "outputs": [
    {
     "name": "stdout",
     "output_type": "stream",
     "text": [
      "[[ 1  1  1]\n",
      " [ 4  2  1]\n",
      " [ 9  3  1]\n",
      " [16  4  1]]\n"
     ]
    }
   ],
   "source": [
    "print(Vandermonde (list_a,False))# Passing the list with increasing as False"
   ]
  }
 ],
 "metadata": {
  "kernelspec": {
   "display_name": "Python 3",
   "language": "python",
   "name": "python3"
  },
  "language_info": {
   "codemirror_mode": {
    "name": "ipython",
    "version": 3
   },
   "file_extension": ".py",
   "mimetype": "text/x-python",
   "name": "python",
   "nbconvert_exporter": "python",
   "pygments_lexer": "ipython3",
   "version": "3.6.4"
  }
 },
 "nbformat": 4,
 "nbformat_minor": 2
}
